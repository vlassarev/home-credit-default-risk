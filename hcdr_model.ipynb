{
 "cells": [
  {
   "cell_type": "markdown",
   "metadata": {},
   "source": [
    "# Home Credit Default Risk Analysis \n",
    "*Dimitar Vlassarev 2018*\n",
    "\n",
    "**Plan for analysis:**\n",
    "1. Pre-process data and split into X, y and Train/Test\n",
    "2. Encode categorical variables\n",
    "3. Impute missing values\n",
    "4. Standardize features\n",
    "5. PCA and pick number of components\n",
    "6. Fit a reference Random Forest Model\n",
    "7. Add SMOTE due to imbalance and refit Random Forest Model\n",
    "8. Optional - hyper-param tuning for Random Forest Model\n",
    "9. Gluon + MXNet model compare to Random Forest Model\n",
    "10. Try out SMOTE or similar vs threshold adjustments and full minority injections in SGD\n",
    "11. Optimize Random Forest Model\n",
    "12. Explore other datasets and when not one-to-one variable select on aggregates and add columns to original set. Repeat 1-10 (possibly skipping non ANN steps)\n",
    "13. Additional feature engineering and ANN tuning (architecture, activations, initialization)"
   ]
  },
  {
   "cell_type": "markdown",
   "metadata": {},
   "source": [
    "## Load Libraries"
   ]
  },
  {
   "cell_type": "code",
   "execution_count": 42,
   "metadata": {},
   "outputs": [],
   "source": [
    "import numpy as np\n",
    "import pandas as pd\n",
    "from sklearn.model_selection import train_test_split\n",
    "from sklearn.preprocessing import StandardScaler, Imputer\n",
    "from sklearn.decomposition import PCA\n",
    "from sklearn.ensemble import RandomForestClassifier\n",
    "from sklearn.metrics import confusion_matrix, roc_curve, roc_auc_score\n",
    "\n",
    "import matplotlib\n",
    "import matplotlib.pyplot as plt\n",
    "%matplotlib inline"
   ]
  },
  {
   "cell_type": "markdown",
   "metadata": {},
   "source": [
    "## Dataset Class\n",
    "Carries some similarities to pipeline implementation but allows for more flexibility."
   ]
  },
  {
   "cell_type": "code",
   "execution_count": 2,
   "metadata": {},
   "outputs": [],
   "source": [
    "class dataset(object):\n",
    "    \"\"\"A dataset class that will take the data and do pre-processing and in some cases\n",
    "    modeling of the data. Instance variable data will hold a Pandas dataframe.\n",
    "    \n",
    "        @param path (str): String to the csv file (can be zipped) to load.\n",
    "        @param exclude (list): Columns that should not be normalized or imputed.\n",
    "        @param target (str): Column that is the target variable.\"\"\"\n",
    "    \n",
    "    def __init__(self, path, exclude, target):\n",
    "        \"\"\"Loads data.\"\"\"\n",
    "        self.data = pd.read_csv(path)\n",
    "        self.exclude = exclude\n",
    "        self.target = target\n",
    "        self.feature_columns = [col for col in self.data.columns \n",
    "                                if col not in (exclude + [target])]\n",
    "    \n",
    "    def _clean_col_name(self, name):\n",
    "        \"\"\"Cleans column names from special characters and whitespaces.\n",
    "            @param name (str): Input name.\n",
    "            @return name (str): Cleaned up name.\"\"\"\n",
    "\n",
    "        name = name.upper()\n",
    "        for c in \", /:\":\n",
    "            name = name.replace(c, \"_\")\n",
    "        return(name)\n",
    "    \n",
    "    def describe_cardinality(self):\n",
    "        \"\"\"Prints the number of levels in each categorical column.\"\"\"\n",
    "        categorical_columns = self.data[self.feature_columns].select_dtypes([np.object]).columns\n",
    "        for col_name in categorical_columns:\n",
    "            col_data = self.data[col_name]\n",
    "            print(\"{:28s} has {:2d} levels.\".format(col_name, len(col_data.unique())))\n",
    "\n",
    "    def split_X_y(self):\n",
    "        \"\"\"Splits data columns into feature and target sets.\n",
    "            @return (X, y) (tuple): Features and label.\"\"\"\n",
    "        X = self.data[self.feature_columns]\n",
    "        y = self.data[self.target]\n",
    "        return(X, y)\n",
    "    \n",
    "    def onehot(self, data):\n",
    "        \"\"\"Inplace, onehot encodes all the columns in the dataset.\n",
    "            @param data (pandas.DataFrame): Data to encode.\n",
    "            @return (data, data.columns): Cargorical variables encoded.\"\"\"\n",
    "        data = data.copy()\n",
    "        categorical_columns = data.select_dtypes([np.object]).columns\n",
    "        for col_name in categorical_columns:\n",
    "            dummy_cols = pd.get_dummies(data[col_name])\n",
    "            dummy_cols.columns = [\"{}_{}\".format(col_name, self._clean_col_name(dummy_name)) \n",
    "                                  for dummy_name in dummy_cols]\n",
    "            data = data.merge(\n",
    "                dummy_cols,\n",
    "                left_index=True,\n",
    "                right_index=True)\n",
    "            data = data.drop(col_name, axis=1)\n",
    "        return(data, data.columns)\n",
    "    \n",
    "    def impute(self, data, mode=\"fit_transform\"):\n",
    "        \"\"\"Inplace, impute all columns with averages.\n",
    "            @param data (pandas.DataFrame): Input to fit and tranform.\n",
    "            @param mode (str): Specifies whether to fit, fit_transform or transform.\n",
    "            @return data (pandas.DataFrame): Imputed data.\"\"\"\n",
    "        if \"fit\" in mode:\n",
    "            self.imp = Imputer().fit(data)\n",
    "        if \"transform\" in mode:\n",
    "            return(pd.DataFrame(self.imp.transform(data), columns=data.columns))\n",
    "        \n",
    "    def standardize(self, data, mode=\"fit_transform\"):\n",
    "        \"\"\"Inplace, mean and std normalizes all columns except exclude.\n",
    "            @param data (pandas.DataFrame): Input to fit and tranform.\n",
    "            @param mode (str): Specifies whether to fit, fit_transform or transform.\n",
    "            @return data (pandas.DataFrame): Standardized data.\"\"\"\n",
    "        if \"fit\" in mode:\n",
    "            self.standard = StandardScaler().fit(data)\n",
    "        if \"transform\" in mode:\n",
    "            return(pd.DataFrame(self.standard.transform(data), columns=data.columns))\n",
    "    \n",
    "    def pca(self, data, n_components=None, plot=True, mode=\"fit_transform\"):\n",
    "        \"\"\"Runs PCA on the data and explores the number of components needed.\n",
    "            @param n_components (int): Number of max components to consider.\n",
    "            @param data (pandas.DataFrame): Input to fit and tranform.\n",
    "            @param mode (str): Specifies whether to fit, fit_transform or transform.\n",
    "            @return data (pandas.DataFrame): PCA transformed data.\"\"\"\n",
    "        df = data.copy()\n",
    "        if \"fit\" in mode:\n",
    "            if not n_components:\n",
    "                n_components = df.shape[1]\n",
    "            pca = PCA(n_components=n_components)\n",
    "            self.pca_model = pca.fit(df)\n",
    "\n",
    "            if plot:\n",
    "                matplotlib.rcParams.update({'font.size': 16})\n",
    "                plt.figure(figsize=(16, 9))\n",
    "                plt.plot(range(1, n_components + 1), \n",
    "                         np.cumsum(pca.explained_variance_ratio_),\n",
    "                        linewidth=3, alpha=0.7, color=\"r\")\n",
    "                plt.title(\"Variance Explained vs Number of Components\")\n",
    "                plt.xlabel(\"Number of principal components\")\n",
    "                plt.ylabel(\"Relative variance explained\")\n",
    "                plt.ylim((0, 1.01))\n",
    "                plt.grid(alpha=0.5)\n",
    "        if \"transform\" in mode:\n",
    "            return(self.pca_model.transform(df))\n",
    "        \n",
    "    def split_train_test(self, X, y, test_size=0.2):\n",
    "        \"\"\"Splits feature and target data sets into test and train.\n",
    "            @param X (pandas.DataFrame): X data\n",
    "            @param y (series): y data\n",
    "            @param test_size (float): fraction of data for test\n",
    "            @return X_train, X_test, y_train, y_test (tuple): split data\"\"\"\n",
    "        return(train_test_split(X, y, test_size=test_size, random_state=757))"
   ]
  },
  {
   "cell_type": "markdown",
   "metadata": {},
   "source": [
    "## Pre-Processing Data"
   ]
  },
  {
   "cell_type": "code",
   "execution_count": 3,
   "metadata": {},
   "outputs": [
    {
     "name": "stdout",
     "output_type": "stream",
     "text": [
      "NAME_CONTRACT_TYPE           has  2 levels.\n",
      "CODE_GENDER                  has  3 levels.\n",
      "FLAG_OWN_CAR                 has  2 levels.\n",
      "FLAG_OWN_REALTY              has  2 levels.\n",
      "NAME_TYPE_SUITE              has  8 levels.\n",
      "NAME_INCOME_TYPE             has  8 levels.\n",
      "NAME_EDUCATION_TYPE          has  5 levels.\n",
      "NAME_FAMILY_STATUS           has  6 levels.\n",
      "NAME_HOUSING_TYPE            has  6 levels.\n",
      "OCCUPATION_TYPE              has 19 levels.\n",
      "WEEKDAY_APPR_PROCESS_START   has  7 levels.\n",
      "ORGANIZATION_TYPE            has 58 levels.\n",
      "FONDKAPREMONT_MODE           has  5 levels.\n",
      "HOUSETYPE_MODE               has  4 levels.\n",
      "WALLSMATERIAL_MODE           has  8 levels.\n",
      "EMERGENCYSTATE_MODE          has  3 levels.\n"
     ]
    },
    {
     "data": {
      "image/png": "[encoded data removed]",
      "text/plain": [
       "<matplotlib.figure.Figure at 0x2adf8d7ef60>"
      ]
     },
     "metadata": {},
     "output_type": "display_data"
    }
   ],
   "source": [
    "# Pre-processing\n",
    "app = dataset(r\"data/application_train.csv.zip\", [\"SK_ID_CURR\"], \"TARGET\")\n",
    "app.describe_cardinality()\n",
    "app.X, app.y = app.split_X_y()\n",
    "app.X, app.feature_columns = app.onehot(app.X)\n",
    "app.X_train, app.X_test, app.y_train, app.y_test = app.split_train_test(app.X, app.y)\n",
    "\n",
    "app.X_train = app.impute(app.X_train)\n",
    "app.X_train = app.standardize(app.X_train)\n",
    "app.pca(app.X_train, mode=\"fit\")\n",
    "app.X_train = app.pca(app.X_train, mode=\"fit_transform\", n_components=170, plot=False)\n",
    "\n",
    "app.X_test = app.impute(app.X_test, mode=\"transform\")\n",
    "app.X_test = app.standardize(app.X_test, mode=\"transform\")\n",
    "app.X_test = app.pca(app.X_test, mode=\"transform\")"
   ]
  },
  {
   "cell_type": "markdown",
   "metadata": {},
   "source": [
    "## Random Forest First Look"
   ]
  },
  {
   "cell_type": "code",
   "execution_count": 4,
   "metadata": {},
   "outputs": [
    {
     "data": {
      "text/plain": [
       "RandomForestClassifier(bootstrap=True, class_weight=None, criterion='gini',\n",
       "            max_depth=7, max_features='auto', max_leaf_nodes=None,\n",
       "            min_impurity_decrease=0.0, min_impurity_split=None,\n",
       "            min_samples_leaf=1, min_samples_split=2,\n",
       "            min_weight_fraction_leaf=0.0, n_estimators=100, n_jobs=1,\n",
       "            oob_score=False, random_state=0, verbose=0, warm_start=False)"
      ]
     },
     "execution_count": 4,
     "metadata": {},
     "output_type": "execute_result"
    }
   ],
   "source": [
    "rfc = RandomForestClassifier(max_depth=7, random_state=0, n_estimators=100)\n",
    "rfc.fit(app.X_train, app.y_train)"
   ]
  },
  {
   "cell_type": "code",
   "execution_count": 49,
   "metadata": {},
   "outputs": [
    {
     "name": "stdout",
     "output_type": "stream",
     "text": [
      "Random Forest Classifier\n",
      "Train Accuracy: 0.919\n",
      "Test Accuracy:  0.920\n",
      "Confusion Matrix for 0.1 threhold.\n",
      "[[46814  9760]\n",
      " [ 2880  2049]]\n",
      "Area Under the Curve\n",
      "0.692809733331919\n"
     ]
    },
    {
     "data": {
      "image/png": "[encoded data removed]",
      "text/plain": [
       "<matplotlib.figure.Figure at 0x2ada0344eb8>"
      ]
     },
     "metadata": {},
     "output_type": "display_data"
    }
   ],
   "source": [
    "# Basic Accuracy and Confussion Matrix\n",
    "print(\"Random Forest Classifier\\nTrain Accuracy: {:.3f}\\nTest Accuracy:  {:.3f}\".format(\n",
    "    rfc.score(app.X_train, app.y_train), rfc.score(app.X_test, app.y_test)))\n",
    "y_test_score = [p2 for p1, p2 in rfc.predict_proba(app.X_test)]\n",
    "fpr, tpr, thresholds = roc_curve(app.y_test, y_test_score)\n",
    "thresh = 0.1\n",
    "print(\"Confusion Matrix for {} threhold.\".format(thresh))\n",
    "print(confusion_matrix(app.y_test, (np.array([p2 for p1, p2 in rfc.predict_proba(app.X_test)]) > thresh).astype(\"int\")))\n",
    "matplotlib.rcParams.update({'font.size': 16})\n",
    "\n",
    "# AUC\n",
    "print(\"Area Under the Curve\")\n",
    "print(roc_auc_score(app.y_test, y_test_score))\n",
    "\n",
    "# Plot ROC\n",
    "plt.figure(figsize=(9, 9))\n",
    "plt.plot(fpr, tpr, linewidth=3, alpha=0.7, color=\"g\")\n",
    "plt.title(\"Receiver Operating Curve\")\n",
    "plt.xlabel(\"False Postive Rate\")\n",
    "plt.ylabel(\"True Positive Rate\")\n",
    "plt.ylim((0, 1.001))\n",
    "plt.xlim((0, 1.000))\n",
    "plt.grid(alpha=0.5)"
   ]
  },
  {
   "cell_type": "markdown",
   "metadata": {},
   "source": [
    "## Load Data"
   ]
  },
  {
   "cell_type": "code",
   "execution_count": null,
   "metadata": {},
   "outputs": [],
   "source": [
    "# Load data into dataframes\n",
    "application_train     = pd.read_csv(r\"data/application_train.csv.zip\")\n",
    "# application_test      = pd.read_csv(r\"data/application_test.csv.zip\")\n",
    "# bureau                = pd.read_csv(r\"data/bureau.csv.zip\")\n",
    "# bureau_balance        = pd.read_csv(r\"data/bureau_balance.csv.zip\")\n",
    "# credit_card_balance   = pd.read_csv(r\"data/credit_card_balance.csv.zip\")\n",
    "# installments_payments = pd.read_csv(r\"data/installments_payments.csv.zip\")\n",
    "# pos_cash_balance      = pd.read_csv(r\"data/POS_CASH_balance.csv.zip\")\n",
    "# previous_application  = pd.read_csv(r\"data/previous_application.csv.zip\")\n",
    "columns_description   = pd.read_csv(r\"data/HomeCredit_columns_description.csv\", encoding='cp1252')"
   ]
  },
  {
   "cell_type": "markdown",
   "metadata": {},
   "source": [
    "## Display Column descriptions"
   ]
  },
  {
   "cell_type": "code",
   "execution_count": null,
   "metadata": {},
   "outputs": [],
   "source": [
    "# Column descriptions\n",
    "pd.options.display.max_rows = 500\n",
    "display(columns_description[[\"Table\", \"Row\", \"Description\", \"Special\"]])\n",
    "pd.reset_option(\"max_rows\")"
   ]
  },
  {
   "cell_type": "code",
   "execution_count": null,
   "metadata": {},
   "outputs": [],
   "source": [
    "# Pick out string columns\n",
    "cardinal_columns = application_train.select_dtypes([np.object]).columns\n",
    "for col_name in cardinal_columns:\n",
    "    col_data = application_train[col_name]\n",
    "    print(\"{:28s} has {:2d} levels.\".format(col_name, len(col_data.unique())))\n",
    "\n",
    "# One-hot encode all the cardinal columns\n",
    "def clean_col_name(name):\n",
    "    \"\"\"\n",
    "        Cleans column names from special characters and whitespaces.\n",
    "        @param name (str): Input name\n",
    "        @return name (str): Cleaned up name\n",
    "    \"\"\"\n",
    "    \n",
    "    name = name.upper()\n",
    "    name = name.replace(\",\", \"_\")\n",
    "    name = name.replace(\" \", \"_\")\n",
    "    name = name.replace(\"/\", \"_\")\n",
    "    name = name.replace(\":\", \"_\")\n",
    "    return(name)\n",
    "\n",
    "for col_name in cardinal_columns:\n",
    "    dummy_cols = pd.get_dummies(application_train[col_name])\n",
    "    dummy_cols.columns = [\"{}_{}\".format(col_name, clean_col_name(dummy_name)) for dummy_name in dummy_cols]\n",
    "              \n",
    "    application_train = application_train.merge(\n",
    "        dummy_cols,\n",
    "        left_index=True,\n",
    "        right_index=True)\n",
    "    application_train = application_train.drop(col_name, axis=1)"
   ]
  },
  {
   "cell_type": "code",
   "execution_count": null,
   "metadata": {},
   "outputs": [],
   "source": [
    "application_train.describe()"
   ]
  },
  {
   "cell_type": "code",
   "execution_count": null,
   "metadata": {
    "scrolled": true
   },
   "outputs": [],
   "source": [
    "for col in application_train.columns:\n",
    "    print(col)"
   ]
  },
  {
   "cell_type": "code",
   "execution_count": null,
   "metadata": {},
   "outputs": [],
   "source": [
    "# Target data appears to be all present and only contain 0 and 1 values\n",
    "y = application_train[\"TARGET\"].copy()"
   ]
  },
  {
   "cell_type": "code",
   "execution_count": null,
   "metadata": {},
   "outputs": [],
   "source": [
    "application_train[\"EXT_SOURCE_1\"].describe()"
   ]
  },
  {
   "cell_type": "code",
   "execution_count": null,
   "metadata": {},
   "outputs": [],
   "source": [
    "application_train[[\"NAME_CONTRACT_TYPE\"]].merge(\n",
    "    pd.get_dummies(application_train[\"NAME_CONTRACT_TYPE\"]),\n",
    "    left_index=True,\n",
    "    right_index=True)"
   ]
  },
  {
   "cell_type": "code",
   "execution_count": null,
   "metadata": {},
   "outputs": [],
   "source": [
    "X = application_train[[\"CNT_CHILDREN\", \n",
    "                  \"AMT_INCOME_TOTAL\",\n",
    "                  \"AMT_CREDIT\",\n",
    "                  \"AMT_ANNUITY\",\n",
    "                  \"AMT_GOODS_PRICE\",\n",
    "                  \"DAYS_BIRTH\",\n",
    "                  \"DAYS_EMPLOYED\"]].copy()"
   ]
  },
  {
   "cell_type": "code",
   "execution_count": null,
   "metadata": {},
   "outputs": [],
   "source": [
    "mask = X.isna().apply(lambda row: not any(row), axis=1)"
   ]
  },
  {
   "cell_type": "code",
   "execution_count": null,
   "metadata": {},
   "outputs": [],
   "source": [
    "X = X[mask].values\n",
    "y = y[mask].values"
   ]
  },
  {
   "cell_type": "code",
   "execution_count": null,
   "metadata": {},
   "outputs": [],
   "source": [
    "pca = PCA(n_components=2)\n",
    "pca_model = pca.fit(X)"
   ]
  },
  {
   "cell_type": "code",
   "execution_count": null,
   "metadata": {},
   "outputs": [],
   "source": []
  }
 ],
 "metadata": {
  "kernelspec": {
   "display_name": "Python 3",
   "language": "python",
   "name": "python3"
  },
  "language_info": {
   "codemirror_mode": {
    "name": "ipython",
    "version": 3
   },
   "file_extension": ".py",
   "mimetype": "text/x-python",
   "name": "python",
   "nbconvert_exporter": "python",
   "pygments_lexer": "ipython3",
   "version": "3.6.4"
  }
 },
 "nbformat": 4,
 "nbformat_minor": 2
}
